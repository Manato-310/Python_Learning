{
  "cells": [
    {
      "cell_type": "markdown",
      "metadata": {
        "id": "view-in-github",
        "colab_type": "text"
      },
      "source": [
        "<a href=\"https://colab.research.google.com/github/Manato-310/Python_Learning/blob/main/colab/1/1-4.ipynb\" target=\"_parent\"><img src=\"https://colab.research.google.com/assets/colab-badge.svg\" alt=\"Open In Colab\"/></a>"
      ]
    },
    {
      "cell_type": "markdown",
      "metadata": {
        "id": "WoMMrch6K_lu"
      },
      "source": [
        "# 1-4. テストとデバッグ\n",
        "\n",
        "テストとデバッグについて説明します。\n",
        "\n",
        "参考\n",
        "\n",
        "- https://docs.python.org/ja/3/tutorial/errors.html\n",
        "\n",
        "## 仕様・テスト・デバッグ\n",
        "\n",
        "プログラムを書くときに、実現しようとしている事柄を**仕様**と呼びます。\n",
        "\n",
        "対象のプログラムが仕様に適合しているかを、実際にプログラムを動作させて検査することを、**テスト**と呼びます。\n",
        "テストの際に、テスト対象に与える入出力ペアのことを、**テストケース**と呼びます。\n",
        "\n",
        "書いたプログラムが仕様に適合しているかは、一般に自明ではありません。\n",
        "テストによって、仕様に反したプログラムの振舞いが、しばしば浮き彫りになります。\n",
        "仕様に反したプログラムの振舞いの原因を、**バグ**と呼び、それを取り除くことを**デバッグ**と呼びます。\n",
        "\n",
        "プログラミングでは、典型的には\n",
        "\n",
        "* 仕様を分析する\n",
        "* プログラムを書く\n",
        "* テストする\n",
        "* デバッグする\n",
        "\n",
        "という4つの行いを、必要に応じて繰り返すことになります。"
      ]
    },
    {
      "cell_type": "markdown",
      "metadata": {
        "id": "P3H11YURK_lz"
      },
      "source": [
        "## assert文\n",
        "\n",
        "テストとデバッグに有用なのが、**assert文**です。\n",
        "これは、`assert` の次に書かれた条件式が真であるべきだと仕様を宣言する文です。\n",
        "偽であった場合は、`AssertionError` が発生してプログラムがそこで停止します。\n",
        "\n",
        "与えられた引数を二乗する関数 `square` を用いた具体例を示します。"
      ]
    },
    {
      "cell_type": "code",
      "execution_count": 1,
      "metadata": {
        "id": "K4-1g6niK_l0"
      },
      "outputs": [],
      "source": [
        "def square(x):\n",
        "    return x*x\n",
        "\n",
        "x = -2\n",
        "assert square(x) >= 0"
      ]
    },
    {
      "cell_type": "markdown",
      "metadata": {
        "id": "BCOswBv3K_l1"
      },
      "source": [
        "このassert文では、仕様として条件式 `square(x) >= 0` を宣言しています。\n",
        "`square` 関数が「二乗する」という仕様に沿っているなら、その条件式は真であるべきです。\n",
        "そして、実際 `square` はその仕様に適合しているので、ここではassert文が実行されても何も起きません。\n",
        "\n",
        "しかし、`square` にバグがあった場合は、話が変わります。"
      ]
    },
    {
      "cell_type": "code",
      "execution_count": 2,
      "metadata": {
        "tags": [
          "raises-exception"
        ],
        "id": "23qGAIa5K_l2",
        "outputId": "6dfb77fe-e80f-4c23-fc1d-8ce4fbf636a0",
        "colab": {
          "base_uri": "https://localhost:8080/",
          "height": 176
        }
      },
      "outputs": [
        {
          "output_type": "error",
          "ename": "AssertionError",
          "evalue": "",
          "traceback": [
            "\u001b[0;31m---------------------------------------------------------------------------\u001b[0m",
            "\u001b[0;31mAssertionError\u001b[0m                            Traceback (most recent call last)",
            "\u001b[0;32m/tmp/ipython-input-2-598319922.py\u001b[0m in \u001b[0;36m<cell line: 0>\u001b[0;34m()\u001b[0m\n\u001b[1;32m      3\u001b[0m \u001b[0;34m\u001b[0m\u001b[0m\n\u001b[1;32m      4\u001b[0m \u001b[0mx\u001b[0m \u001b[0;34m=\u001b[0m \u001b[0;34m-\u001b[0m\u001b[0;36m2\u001b[0m\u001b[0;34m\u001b[0m\u001b[0;34m\u001b[0m\u001b[0m\n\u001b[0;32m----> 5\u001b[0;31m \u001b[0;32massert\u001b[0m \u001b[0msquare\u001b[0m\u001b[0;34m(\u001b[0m\u001b[0mx\u001b[0m\u001b[0;34m)\u001b[0m \u001b[0;34m>=\u001b[0m \u001b[0;36m0\u001b[0m\u001b[0;34m\u001b[0m\u001b[0;34m\u001b[0m\u001b[0m\n\u001b[0m",
            "\u001b[0;31mAssertionError\u001b[0m: "
          ]
        }
      ],
      "source": [
        "def square(x):\n",
        "    return x+x # バグがある\n",
        "\n",
        "x = -2\n",
        "assert square(x) >= 0"
      ]
    },
    {
      "cell_type": "markdown",
      "metadata": {
        "id": "FINfkWmjK_l2"
      },
      "source": [
        "上のセルを実行すると、 `AssertionError` が生じます。\n",
        "\n",
        "このように、assert文は、それが存在する場所で、満たされていなければならない前提条件を記述するために用います。\n",
        "assert文で停止したら、記述された前提条件に関わる部分にバグがあることが判明します。\n",
        "\n",
        "テストケースは、テスト対象が満たすべき仕様という側面があるので、assert文はテストにも用いられます。"
      ]
    },
    {
      "cell_type": "code",
      "execution_count": 3,
      "metadata": {
        "id": "99Km2ZgSK_l3"
      },
      "outputs": [],
      "source": [
        "def square(x):\n",
        "    return x*x\n",
        "\n",
        "assert square(2) == 4\n",
        "assert square(-2) == 4\n",
        "assert square(0) == 0"
      ]
    },
    {
      "cell_type": "markdown",
      "metadata": {
        "id": "Q-3RsJ57K_l3"
      },
      "source": [
        "上の例では、`square`に対する3つのテストケースについて、assert文でテストしています。テストケースが満たされた（つまりassert文で停止しなかった）からと言って、テスト対象の `square` が正しいとは言えませんが、仕様への適合度が高いことから、尤もらしいとは言えます。"
      ]
    },
    {
      "cell_type": "markdown",
      "metadata": {
        "id": "UauAhGcgK_l4"
      },
      "source": [
        "## エラーの分類\n",
        "\n",
        "不正なプログラムからは、様々なエラーが生じます。\n",
        "\n",
        "エラーには大きく分けて、構文エラー・実行時エラー・論理エラーの3つがあります。\n",
        "以下では、それぞれの意味と、典型例を示します。\n",
        "\n",
        "### 構文エラー\n",
        "\n",
        "**構文エラー**（syntax error）とは、プログラムコードが、Pythonの構文に違反しているときに生じるエラーです。\n",
        "\n",
        "Pythonにおける構文エラーの典型例として、\n",
        "\n",
        "* クォートや括弧の閉じ忘れ\n",
        "* コロンのつけ忘れ\n",
        "* インデントの崩れ\n",
        "* 全角スペースの利用\n",
        "* `==` の代わりに `=` を使う\n",
        "* 変数の代わりに文字列を使う（Cf. [2-1 文字列](../2/2-1.ipynb)）\n",
        "\n",
        "などが挙げられます。"
      ]
    },
    {
      "cell_type": "code",
      "execution_count": 4,
      "metadata": {
        "tags": [
          "raises-exception"
        ],
        "id": "GijzihShK_l5",
        "outputId": "0eef3f0c-e777-4f80-e460-8b83c6a775f5",
        "colab": {
          "base_uri": "https://localhost:8080/",
          "height": 106
        }
      },
      "outputs": [
        {
          "output_type": "error",
          "ename": "SyntaxError",
          "evalue": "unterminated string literal (detected at line 1) (ipython-input-4-4075509044.py, line 1)",
          "traceback": [
            "\u001b[0;36m  File \u001b[0;32m\"/tmp/ipython-input-4-4075509044.py\"\u001b[0;36m, line \u001b[0;32m1\u001b[0m\n\u001b[0;31m    print('This is the error) # クォートの閉じ忘れ\u001b[0m\n\u001b[0m          ^\u001b[0m\n\u001b[0;31mSyntaxError\u001b[0m\u001b[0;31m:\u001b[0m unterminated string literal (detected at line 1)\n"
          ]
        }
      ],
      "source": [
        "print('This is the error) # クォートの閉じ忘れ"
      ]
    },
    {
      "cell_type": "code",
      "execution_count": 5,
      "metadata": {
        "id": "22WdJ7rGK_l7",
        "outputId": "3dedccc3-e2ca-4445-97ff-f797b24cea06",
        "colab": {
          "base_uri": "https://localhost:8080/",
          "height": 106
        }
      },
      "outputs": [
        {
          "output_type": "error",
          "ename": "SyntaxError",
          "evalue": "expected ':' (ipython-input-5-592770939.py, line 1)",
          "traceback": [
            "\u001b[0;36m  File \u001b[0;32m\"/tmp/ipython-input-5-592770939.py\"\u001b[0;36m, line \u001b[0;32m1\u001b[0m\n\u001b[0;31m    def f()  # コロンの付け忘れ\u001b[0m\n\u001b[0m             ^\u001b[0m\n\u001b[0;31mSyntaxError\u001b[0m\u001b[0;31m:\u001b[0m expected ':'\n"
          ]
        }
      ],
      "source": [
        "def f()  # コロンの付け忘れ\n",
        "   return 1"
      ]
    },
    {
      "cell_type": "code",
      "execution_count": 6,
      "metadata": {
        "id": "UVVisiWmK_l9",
        "outputId": "f4559801-6b27-4c66-9c27-3dfebd8b2e5a",
        "colab": {
          "base_uri": "https://localhost:8080/",
          "height": 106
        }
      },
      "outputs": [
        {
          "output_type": "error",
          "ename": "IndentationError",
          "evalue": "expected an indented block after function definition on line 1 (ipython-input-6-56312742.py, line 2)",
          "traceback": [
            "\u001b[0;36m  File \u001b[0;32m\"/tmp/ipython-input-6-56312742.py\"\u001b[0;36m, line \u001b[0;32m2\u001b[0m\n\u001b[0;31m    return 1 # インデントの崩れ\u001b[0m\n\u001b[0m    ^\u001b[0m\n\u001b[0;31mIndentationError\u001b[0m\u001b[0;31m:\u001b[0m expected an indented block after function definition on line 1\n"
          ]
        }
      ],
      "source": [
        "def f():\n",
        "return 1 # インデントの崩れ"
      ]
    },
    {
      "cell_type": "code",
      "execution_count": 7,
      "metadata": {
        "tags": [
          "raises-exception"
        ],
        "id": "_DrARr_EK_l-",
        "outputId": "4757351a-3565-41dd-a31a-1271b1aa1670",
        "colab": {
          "base_uri": "https://localhost:8080/",
          "height": 106
        }
      },
      "outputs": [
        {
          "output_type": "error",
          "ename": "SyntaxError",
          "evalue": "invalid non-printable character U+3000 (ipython-input-7-156327778.py, line 1)",
          "traceback": [
            "\u001b[0;36m  File \u001b[0;32m\"/tmp/ipython-input-7-156327778.py\"\u001b[0;36m, line \u001b[0;32m1\u001b[0m\n\u001b[0;31m    1 +　1 # 全角スペースの利用\u001b[0m\n\u001b[0m       ^\u001b[0m\n\u001b[0;31mSyntaxError\u001b[0m\u001b[0;31m:\u001b[0m invalid non-printable character U+3000\n"
          ]
        }
      ],
      "source": [
        "1 +　1 # 全角スペースの利用"
      ]
    },
    {
      "cell_type": "markdown",
      "metadata": {
        "id": "WULPdb0fK_l_"
      },
      "source": [
        "上の例を実行するとわかるように、構文エラーがあると `SyntaxError` や `IndentationError` などが発生します。\n",
        "それに付随するエラーメッセージが、構文エラーの具体的内容とおおよその位置を説明してくれます。\n",
        "\n",
        "構文エラーに直面した際は、エラーメッセージをよく読んで、原因を推察しましょう。\n",
        "上の例が示すように、エラーメッセージの説明は、必ずしも分かり易くないですが、原因の位置を絞りこむには有用です。\n",
        "\n",
        "Pythonでは、構文エラーが実行時に発生しているように見えますが、実際には、実行しようとするプログラムコードの解釈に失敗することでエラーが生じています。\n",
        "つまり、構文エラーは、プログラムの実行によって生じるエラーではなく、実行できなかったことで生じるエラーです。"
      ]
    },
    {
      "cell_type": "markdown",
      "metadata": {
        "id": "nMCKOXdHK_l_"
      },
      "source": [
        "### 実行時エラー\n",
        "\n",
        "**実行時エラー**（runtime error）とは、プログラムを実行した際に生じるエラー全般を指します。\n",
        "簡単に言えば、プログラムを異常停止させるエラーです。\n",
        "\n",
        "実行時エラーが生じる典型的な状況として、\n",
        "\n",
        "* 存在しない名前の利用（変数名・関数名・メソッド名の誤植）\n",
        "* グローバル変数のつもりでローカル変数を参照（Cf. [3-3 関数](../3/3-3.ipynb)）\n",
        "* ゼロによる除算\n",
        "* 辞書に登録されていないキーに対する値を取得（Cf. [3-1 辞書](../3/3-1.ipynb)）\n",
        "* 存在しないファイルの読み込み（Cf. [4-1 ファイル入出力](../4/4-1.ipynb)）\n",
        "* assert文における条件の不成立\n",
        "\n",
        "などが挙げられます。"
      ]
    },
    {
      "cell_type": "code",
      "execution_count": 8,
      "metadata": {
        "tags": [
          "raises-exception"
        ],
        "id": "0tfwOKtfK_mA",
        "outputId": "38a09ef5-fe24-4a67-c6ad-af9f45704a37",
        "colab": {
          "base_uri": "https://localhost:8080/",
          "height": 141
        }
      },
      "outputs": [
        {
          "output_type": "error",
          "ename": "NameError",
          "evalue": "name 'undefined_variable' is not defined",
          "traceback": [
            "\u001b[0;31m---------------------------------------------------------------------------\u001b[0m",
            "\u001b[0;31mNameError\u001b[0m                                 Traceback (most recent call last)",
            "\u001b[0;32m/tmp/ipython-input-8-3996331676.py\u001b[0m in \u001b[0;36m<cell line: 0>\u001b[0;34m()\u001b[0m\n\u001b[0;32m----> 1\u001b[0;31m \u001b[0mundefined_variable\u001b[0m \u001b[0;31m# 未定義の変数の参照\u001b[0m\u001b[0;34m\u001b[0m\u001b[0;34m\u001b[0m\u001b[0m\n\u001b[0m",
            "\u001b[0;31mNameError\u001b[0m: name 'undefined_variable' is not defined"
          ]
        }
      ],
      "source": [
        "undefined_variable # 未定義の変数の参照"
      ]
    },
    {
      "cell_type": "code",
      "execution_count": 9,
      "metadata": {
        "id": "OWk4m-53K_mB",
        "outputId": "f9c5561e-b853-410c-f128-54d578724249",
        "colab": {
          "base_uri": "https://localhost:8080/",
          "height": 280
        }
      },
      "outputs": [
        {
          "output_type": "error",
          "ename": "UnboundLocalError",
          "evalue": "cannot access local variable 'x' where it is not associated with a value",
          "traceback": [
            "\u001b[0;31m---------------------------------------------------------------------------\u001b[0m",
            "\u001b[0;31mUnboundLocalError\u001b[0m                         Traceback (most recent call last)",
            "\u001b[0;32m/tmp/ipython-input-9-2530582621.py\u001b[0m in \u001b[0;36m<cell line: 0>\u001b[0;34m()\u001b[0m\n\u001b[1;32m      2\u001b[0m \u001b[0;32mdef\u001b[0m \u001b[0mf\u001b[0m\u001b[0;34m(\u001b[0m\u001b[0;34m)\u001b[0m\u001b[0;34m:\u001b[0m\u001b[0;34m\u001b[0m\u001b[0;34m\u001b[0m\u001b[0m\n\u001b[1;32m      3\u001b[0m     \u001b[0mx\u001b[0m \u001b[0;34m=\u001b[0m \u001b[0mx\u001b[0m \u001b[0;31m# グローバル変数のつもりでローカル変数を参照\u001b[0m\u001b[0;34m\u001b[0m\u001b[0;34m\u001b[0m\u001b[0m\n\u001b[0;32m----> 4\u001b[0;31m \u001b[0mf\u001b[0m\u001b[0;34m(\u001b[0m\u001b[0;34m)\u001b[0m\u001b[0;34m\u001b[0m\u001b[0;34m\u001b[0m\u001b[0m\n\u001b[0m",
            "\u001b[0;32m/tmp/ipython-input-9-2530582621.py\u001b[0m in \u001b[0;36mf\u001b[0;34m()\u001b[0m\n\u001b[1;32m      1\u001b[0m \u001b[0mx\u001b[0m \u001b[0;34m=\u001b[0m \u001b[0;36m1\u001b[0m\u001b[0;34m\u001b[0m\u001b[0;34m\u001b[0m\u001b[0m\n\u001b[1;32m      2\u001b[0m \u001b[0;32mdef\u001b[0m \u001b[0mf\u001b[0m\u001b[0;34m(\u001b[0m\u001b[0;34m)\u001b[0m\u001b[0;34m:\u001b[0m\u001b[0;34m\u001b[0m\u001b[0;34m\u001b[0m\u001b[0m\n\u001b[0;32m----> 3\u001b[0;31m     \u001b[0mx\u001b[0m \u001b[0;34m=\u001b[0m \u001b[0mx\u001b[0m \u001b[0;31m# グローバル変数のつもりでローカル変数を参照\u001b[0m\u001b[0;34m\u001b[0m\u001b[0;34m\u001b[0m\u001b[0m\n\u001b[0m\u001b[1;32m      4\u001b[0m \u001b[0mf\u001b[0m\u001b[0;34m(\u001b[0m\u001b[0;34m)\u001b[0m\u001b[0;34m\u001b[0m\u001b[0;34m\u001b[0m\u001b[0m\n",
            "\u001b[0;31mUnboundLocalError\u001b[0m: cannot access local variable 'x' where it is not associated with a value"
          ]
        }
      ],
      "source": [
        "x = 1\n",
        "def f():\n",
        "    x = x # グローバル変数のつもりでローカル変数を参照\n",
        "f()"
      ]
    },
    {
      "cell_type": "code",
      "execution_count": 10,
      "metadata": {
        "id": "hC1iDfRhK_mB",
        "outputId": "215fe904-ae7d-4115-ffc6-c6d1bcd5a4cd",
        "colab": {
          "base_uri": "https://localhost:8080/",
          "height": 141
        }
      },
      "outputs": [
        {
          "output_type": "error",
          "ename": "ZeroDivisionError",
          "evalue": "division by zero",
          "traceback": [
            "\u001b[0;31m---------------------------------------------------------------------------\u001b[0m",
            "\u001b[0;31mZeroDivisionError\u001b[0m                         Traceback (most recent call last)",
            "\u001b[0;32m/tmp/ipython-input-10-2808883117.py\u001b[0m in \u001b[0;36m<cell line: 0>\u001b[0;34m()\u001b[0m\n\u001b[0;32m----> 1\u001b[0;31m \u001b[0;36m1\u001b[0m\u001b[0;34m/\u001b[0m\u001b[0;36m0\u001b[0m \u001b[0;31m# ゼロによる除算\u001b[0m\u001b[0;34m\u001b[0m\u001b[0;34m\u001b[0m\u001b[0m\n\u001b[0m",
            "\u001b[0;31mZeroDivisionError\u001b[0m: division by zero"
          ]
        }
      ],
      "source": [
        "1/0 # ゼロによる除算"
      ]
    },
    {
      "cell_type": "code",
      "execution_count": 11,
      "metadata": {
        "id": "zRPxcQAbK_mC",
        "outputId": "2f695321-aae8-41f1-ff1b-ee92a1c39b91",
        "colab": {
          "base_uri": "https://localhost:8080/",
          "height": 141
        }
      },
      "outputs": [
        {
          "output_type": "error",
          "ename": "KeyError",
          "evalue": "'b'",
          "traceback": [
            "\u001b[0;31m---------------------------------------------------------------------------\u001b[0m",
            "\u001b[0;31mKeyError\u001b[0m                                  Traceback (most recent call last)",
            "\u001b[0;32m/tmp/ipython-input-11-3534311223.py\u001b[0m in \u001b[0;36m<cell line: 0>\u001b[0;34m()\u001b[0m\n\u001b[0;32m----> 1\u001b[0;31m \u001b[0;34m{\u001b[0m\u001b[0;34m'a'\u001b[0m\u001b[0;34m:\u001b[0m \u001b[0;36m1\u001b[0m\u001b[0;34m}\u001b[0m\u001b[0;34m[\u001b[0m\u001b[0;34m'b'\u001b[0m\u001b[0;34m]\u001b[0m \u001b[0;31m# 登録されていないキーに対する値を参照\u001b[0m\u001b[0;34m\u001b[0m\u001b[0;34m\u001b[0m\u001b[0m\n\u001b[0m",
            "\u001b[0;31mKeyError\u001b[0m: 'b'"
          ]
        }
      ],
      "source": [
        "{'a': 1}['b'] # 登録されていないキーに対する値を参照"
      ]
    },
    {
      "cell_type": "code",
      "execution_count": 12,
      "metadata": {
        "id": "qMsiWq-VK_mC",
        "outputId": "1897947d-cf1a-4fef-e7aa-bb86e6e5adfb",
        "colab": {
          "base_uri": "https://localhost:8080/",
          "height": 141
        }
      },
      "outputs": [
        {
          "output_type": "error",
          "ename": "FileNotFoundError",
          "evalue": "[Errno 2] No such file or directory: 'non-existent.txt'",
          "traceback": [
            "\u001b[0;31m---------------------------------------------------------------------------\u001b[0m",
            "\u001b[0;31mFileNotFoundError\u001b[0m                         Traceback (most recent call last)",
            "\u001b[0;32m/tmp/ipython-input-12-3183672649.py\u001b[0m in \u001b[0;36m<cell line: 0>\u001b[0;34m()\u001b[0m\n\u001b[0;32m----> 1\u001b[0;31m \u001b[0mopen\u001b[0m\u001b[0;34m(\u001b[0m\u001b[0;34m'non-existent.txt'\u001b[0m\u001b[0;34m,\u001b[0m \u001b[0;34m'r'\u001b[0m\u001b[0;34m)\u001b[0m \u001b[0;31m# 存在しないファイルの読み込み\u001b[0m\u001b[0;34m\u001b[0m\u001b[0;34m\u001b[0m\u001b[0m\n\u001b[0m",
            "\u001b[0;31mFileNotFoundError\u001b[0m: [Errno 2] No such file or directory: 'non-existent.txt'"
          ]
        }
      ],
      "source": [
        "open('non-existent.txt', 'r') # 存在しないファイルの読み込み"
      ]
    },
    {
      "cell_type": "markdown",
      "metadata": {
        "id": "GxpIIL4JK_mD"
      },
      "source": [
        "実行時エラーについては、送出される例外名（上の例では `NameError`・`UnboundLocalError`・`ZeroDivisionError`・`KeyError`・`FileNotFoundError`）が自己説明的であり、それに付随するエラーメッセージも、大抵原因を分かり易く説明してくれます。\n",
        "\n",
        "実行時エラーに直面した際は、発生した例外名とエラーメッセージをよく読んで、エラーに関連する言語機能（たとえば辞書やファイル）の仕組みを改めて確認しましょう。"
      ]
    },
    {
      "cell_type": "markdown",
      "metadata": {
        "id": "niom85vwK_mD"
      },
      "source": [
        "### 論理エラー\n",
        "\n",
        "**論理エラー**（logic error）とは、プログラムを実行できるが、意図したように動作しないことを意味します。\n",
        "これは、プログラムから発生するエラーではなく、プログラムを書いた人のエラーです。\n",
        "\n",
        "バグと呼ばれるものの多くは、論理エラーです。\n",
        "したがって、デバッグでは、プログラムを書いた人の意図と、プログラムの振舞いを比較検証することになります。\n",
        "\n",
        "assert文は、仕様違反という論理エラーを、 `AssertionError` という実行時エラーに変換していると見做すことができます。"
      ]
    },
    {
      "cell_type": "markdown",
      "metadata": {
        "id": "ZHKRB0xdK_mD"
      },
      "source": [
        "## デバッグの具体例\n",
        "\n",
        "デバッグの具体的なシナリオを説明します。\n",
        "次の関数 `median(x, y, z)` は、`x` と `y` と `z` の中央値（真ん中の値）を求めようとするものです。\n",
        "ただし、 `x` と `y` と `z` は相異なる数であると仮定します。"
      ]
    },
    {
      "cell_type": "code",
      "execution_count": 13,
      "metadata": {
        "id": "STCTPLUZK_mE",
        "outputId": "2a569137-dc9b-4641-eade-7f7b3a686aae",
        "colab": {
          "base_uri": "https://localhost:8080/",
          "height": 176
        }
      },
      "outputs": [
        {
          "output_type": "error",
          "ename": "AssertionError",
          "evalue": "",
          "traceback": [
            "\u001b[0;31m---------------------------------------------------------------------------\u001b[0m",
            "\u001b[0;31mAssertionError\u001b[0m                            Traceback (most recent call last)",
            "\u001b[0;32m/tmp/ipython-input-13-3638934845.py\u001b[0m in \u001b[0;36m<cell line: 0>\u001b[0;34m()\u001b[0m\n\u001b[1;32m      9\u001b[0m     \u001b[0;32mreturn\u001b[0m \u001b[0my\u001b[0m\u001b[0;34m\u001b[0m\u001b[0;34m\u001b[0m\u001b[0m\n\u001b[1;32m     10\u001b[0m \u001b[0;34m\u001b[0m\u001b[0m\n\u001b[0;32m---> 11\u001b[0;31m \u001b[0;32massert\u001b[0m \u001b[0mmedian\u001b[0m\u001b[0;34m(\u001b[0m\u001b[0;36m3\u001b[0m\u001b[0;34m,\u001b[0m \u001b[0;36m1\u001b[0m\u001b[0;34m,\u001b[0m \u001b[0;36m2\u001b[0m\u001b[0;34m)\u001b[0m \u001b[0;34m==\u001b[0m \u001b[0;36m2\u001b[0m\u001b[0;34m\u001b[0m\u001b[0;34m\u001b[0m\u001b[0m\n\u001b[0m",
            "\u001b[0;31mAssertionError\u001b[0m: "
          ]
        }
      ],
      "source": [
        "def median(x, y, z):\n",
        "    if x > y:\n",
        "        x = y\n",
        "        y = x\n",
        "    if z < x:\n",
        "        return x\n",
        "    if z < y:\n",
        "        return z\n",
        "    return y\n",
        "\n",
        "assert median(3, 1, 2) == 2"
      ]
    },
    {
      "cell_type": "markdown",
      "metadata": {
        "id": "GzLdcTb5K_mE"
      },
      "source": [
        "このように、この `median` は間違っています。\n",
        "\n",
        "さて、`median` は、ローカル変数の `x`・`y`・`z` のいずれかを返す関数です。\n",
        "これらの変数の値が期待通りの値であるか、 `print` を入れて印字し、観察してみましょう。"
      ]
    },
    {
      "cell_type": "code",
      "execution_count": 14,
      "metadata": {
        "id": "BPXD_Q2yK_mE",
        "outputId": "237a14cd-eed8-41ca-a865-6015fd3a7e48",
        "colab": {
          "base_uri": "https://localhost:8080/",
          "height": 211
        }
      },
      "outputs": [
        {
          "output_type": "stream",
          "name": "stdout",
          "text": [
            "3 1 2\n",
            "1 1 2\n"
          ]
        },
        {
          "output_type": "error",
          "ename": "AssertionError",
          "evalue": "",
          "traceback": [
            "\u001b[0;31m---------------------------------------------------------------------------\u001b[0m",
            "\u001b[0;31mAssertionError\u001b[0m                            Traceback (most recent call last)",
            "\u001b[0;32m/tmp/ipython-input-14-655774478.py\u001b[0m in \u001b[0;36m<cell line: 0>\u001b[0;34m()\u001b[0m\n\u001b[1;32m     11\u001b[0m     \u001b[0;32mreturn\u001b[0m \u001b[0my\u001b[0m\u001b[0;34m\u001b[0m\u001b[0;34m\u001b[0m\u001b[0m\n\u001b[1;32m     12\u001b[0m \u001b[0;34m\u001b[0m\u001b[0m\n\u001b[0;32m---> 13\u001b[0;31m \u001b[0;32massert\u001b[0m \u001b[0mmedian\u001b[0m\u001b[0;34m(\u001b[0m\u001b[0;36m3\u001b[0m\u001b[0;34m,\u001b[0m \u001b[0;36m1\u001b[0m\u001b[0;34m,\u001b[0m \u001b[0;36m2\u001b[0m\u001b[0;34m)\u001b[0m \u001b[0;34m==\u001b[0m \u001b[0;36m2\u001b[0m\u001b[0;34m\u001b[0m\u001b[0;34m\u001b[0m\u001b[0m\n\u001b[0m",
            "\u001b[0;31mAssertionError\u001b[0m: "
          ]
        }
      ],
      "source": [
        "def median(x, y, z):\n",
        "    print(x, y, z)\n",
        "    if x > y:\n",
        "        x = y\n",
        "        y = x\n",
        "    print(x, y, z)\n",
        "    if z < x:\n",
        "        return x\n",
        "    if z < y:\n",
        "        return z\n",
        "    return y\n",
        "\n",
        "assert median(3, 1, 2) == 2"
      ]
    },
    {
      "cell_type": "markdown",
      "metadata": {
        "id": "L1PT3a5OK_mF"
      },
      "source": [
        "関数の入口にある最初の `print` では、期待通りに実引数となる `3`・`1`・`2` が、`x`・`y`・`z` に代入されています。\n",
        "しかし、2番目の `print` では、 `3` が消えて `1` が複製されています。\n",
        "このことから、この2つの `print` の間にあるif文が疑わしいことが分かります。\n",
        "\n",
        "問題のif文は、`x` と `y` の値を入れ替える意図があるものでした。\n",
        "その意図を正しく反映すると、次のようになります。"
      ]
    },
    {
      "cell_type": "code",
      "execution_count": 15,
      "metadata": {
        "id": "mVKFHws1K_mF",
        "outputId": "8cfb81e5-34c2-4fc5-de73-3197acfcdbab",
        "colab": {
          "base_uri": "https://localhost:8080/"
        }
      },
      "outputs": [
        {
          "output_type": "stream",
          "name": "stdout",
          "text": [
            "3 1 2\n",
            "1 3 2\n"
          ]
        }
      ],
      "source": [
        "def median(x, y, z):\n",
        "    print(x, y, z)\n",
        "    if x > y:\n",
        "        w = x\n",
        "        x = y\n",
        "        y = w\n",
        "    print(x, y, z)\n",
        "    if z < x:\n",
        "        return x\n",
        "    if z < y:\n",
        "        return z\n",
        "    return y\n",
        "\n",
        "assert median(3, 1, 2) == 2"
      ]
    },
    {
      "cell_type": "markdown",
      "metadata": {
        "id": "GhUqqs6jK_mG"
      },
      "source": [
        "期待通りに動きました。\n",
        "最後に、デバッグ用に導入した `print` は、`median` の仕様には含まれないので、きちんと消しましょう。"
      ]
    },
    {
      "cell_type": "code",
      "execution_count": 16,
      "metadata": {
        "id": "4SYp47aAK_mG"
      },
      "outputs": [],
      "source": [
        "def median(x, y, z):\n",
        "    if x > y:\n",
        "        w = x\n",
        "        x = y\n",
        "        y = w\n",
        "    if z < x:\n",
        "        return x\n",
        "    if z < y:\n",
        "        return z\n",
        "    return y\n",
        "\n",
        "assert median(3, 1, 2) == 2"
      ]
    },
    {
      "cell_type": "markdown",
      "metadata": {
        "id": "IOBUd0V_K_mH"
      },
      "source": [
        "## コーディングスタイル\n",
        "\n",
        "実は、生じたバグを取る対処法よりも、そもそもバグが生じにくくする予防法の方が大切です。\n",
        "Pythonにおいて特に重要視されているのが、**コーディングスタイル**、つまりコードの書き方です。\n",
        "読みにくい（可読性の低い）コードだと、些細なミスが生じやすく、また見つけにくいからです。\n",
        "\n",
        "Pythonでは[**PEP8**](https://www.python.org/dev/peps/pep-0008/)（[非公式日本語訳](http://pep8-ja.readthedocs.io/ja/latest/)）と呼ばれる公式のスタイルガイドがあります。\n",
        "PEP8には様々な側面でスタイルに関する規則があり、コードの可読性を高めることが強く推奨されています。\n",
        "ここまでに扱った言語の要素について、たとえば、\n",
        "\n",
        "* インデントは半角スペースを4つで1レベル\n",
        "* `=` `+=` `==` などの演算子の前後に半角スペースを1つ入れる\n",
        "* `*` と `+` の複合式では `+` の前後に半角スペースを1つ入れる（例：`2*x + y`）\n",
        "* 関数の開き括弧の前にスペースを入れない\n",
        "* `l` `I` `O` を変数名として使わない\n",
        "* 真理値の比較に `==` や `is` を使わない\n",
        "\n",
        "などが代表的です。\n",
        "\n",
        "PEP8に基づいたコーディングスタイルの自動検査器もあります（参照：[pycodestyle](https://pypi.org/project/pycodestyle/)）。\n",
        "オンラインサービスもいくつか利用できるので（例：[PEP8 online](http://pep8online.com/)）、適宜活用してみましょう。\n",
        "\n",
        "PEP8には陽に言及されていないものの、プログラミング一般に重要なこともあります。\n",
        "たとえば、\n",
        "\n",
        "* 自己説明的でない“マジックナンバー”ではなく記号的に意味がわかる変数を使う\n",
        "* 不要なコードは削除する\n",
        "* 1つの関数では1つのタスクだけを処理する\n",
        "\n",
        "などは、可読性を上げる代表的なポイントです。\n",
        "\n",
        "勘違いはバグを引き起こします。自らが勘違いしないコードを書くことが肝要です。"
      ]
    },
    {
      "cell_type": "code",
      "execution_count": null,
      "metadata": {
        "id": "2TZ7mlCnK_mH"
      },
      "outputs": [],
      "source": []
    }
  ],
  "metadata": {
    "kernelspec": {
      "display_name": "Python 3",
      "language": "python",
      "name": "python3"
    },
    "language_info": {
      "name": "python"
    },
    "colab": {
      "provenance": [],
      "include_colab_link": true
    }
  },
  "nbformat": 4,
  "nbformat_minor": 0
}